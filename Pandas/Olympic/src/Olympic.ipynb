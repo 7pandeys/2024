{
 "cells": [
  {
   "cell_type": "markdown",
   "id": "1fa72ea4-a944-4a0b-961e-a68455488638",
   "metadata": {},
   "source": [
    "## Import Pandas and Load File"
   ]
  },
  {
   "cell_type": "code",
   "execution_count": 2,
   "id": "2f0bd45d-5a60-4255-8d7a-c922623f70f9",
   "metadata": {},
   "outputs": [],
   "source": [
    "import pandas as pd"
   ]
  },
  {
   "cell_type": "code",
   "execution_count": 24,
   "id": "d034e697-8f06-422b-916a-184b6daf24de",
   "metadata": {},
   "outputs": [],
   "source": [
    "df = pd.read_csv(\"olympics_1896_2004.csv\")"
   ]
  },
  {
   "cell_type": "code",
   "execution_count": 25,
   "id": "dbab94ea-358e-4680-9b0c-138d14a303bc",
   "metadata": {},
   "outputs": [
    {
     "data": {
      "text/html": [
       "<div>\n",
       "<style scoped>\n",
       "    .dataframe tbody tr th:only-of-type {\n",
       "        vertical-align: middle;\n",
       "    }\n",
       "\n",
       "    .dataframe tbody tr th {\n",
       "        vertical-align: top;\n",
       "    }\n",
       "\n",
       "    .dataframe thead th {\n",
       "        text-align: right;\n",
       "    }\n",
       "</style>\n",
       "<table border=\"1\" class=\"dataframe\">\n",
       "  <thead>\n",
       "    <tr style=\"text-align: right;\">\n",
       "      <th></th>\n",
       "      <th>This is a list of medallists at the Summer Olympic Games (1896-2004) with details of the year of the olympics, city, sport, discipline, athlete name, gender, event and medal</th>\n",
       "      <th>Unnamed: 1</th>\n",
       "      <th>Unnamed: 2</th>\n",
       "      <th>Unnamed: 3</th>\n",
       "      <th>Unnamed: 4</th>\n",
       "      <th>Unnamed: 5</th>\n",
       "      <th>Unnamed: 6</th>\n",
       "      <th>Unnamed: 7</th>\n",
       "      <th>Unnamed: 8</th>\n",
       "      <th>Unnamed: 9</th>\n",
       "      <th>Unnamed: 10</th>\n",
       "    </tr>\n",
       "  </thead>\n",
       "  <tbody>\n",
       "    <tr>\n",
       "      <th>0</th>\n",
       "      <td>NaN</td>\n",
       "      <td>NaN</td>\n",
       "      <td>NaN</td>\n",
       "      <td>NaN</td>\n",
       "      <td>NaN</td>\n",
       "      <td>NaN</td>\n",
       "      <td>NaN</td>\n",
       "      <td>NaN</td>\n",
       "      <td>NaN</td>\n",
       "      <td>NaN</td>\n",
       "      <td>NaN</td>\n",
       "    </tr>\n",
       "    <tr>\n",
       "      <th>1</th>\n",
       "      <td>DISCLAIMER: No guarantees, express or implied,...</td>\n",
       "      <td>NaN</td>\n",
       "      <td>NaN</td>\n",
       "      <td>NaN</td>\n",
       "      <td>NaN</td>\n",
       "      <td>NaN</td>\n",
       "      <td>NaN</td>\n",
       "      <td>NaN</td>\n",
       "      <td>NaN</td>\n",
       "      <td>NaN</td>\n",
       "      <td>NaN</td>\n",
       "    </tr>\n",
       "    <tr>\n",
       "      <th>2</th>\n",
       "      <td>NaN</td>\n",
       "      <td>NaN</td>\n",
       "      <td>NaN</td>\n",
       "      <td>NaN</td>\n",
       "      <td>NaN</td>\n",
       "      <td>NaN</td>\n",
       "      <td>NaN</td>\n",
       "      <td>NaN</td>\n",
       "      <td>NaN</td>\n",
       "      <td>NaN</td>\n",
       "      <td>NaN</td>\n",
       "    </tr>\n",
       "    <tr>\n",
       "      <th>3</th>\n",
       "      <td>NaN</td>\n",
       "      <td>NaN</td>\n",
       "      <td>NaN</td>\n",
       "      <td>NaN</td>\n",
       "      <td>NaN</td>\n",
       "      <td>NaN</td>\n",
       "      <td>NaN</td>\n",
       "      <td>NaN</td>\n",
       "      <td>NaN</td>\n",
       "      <td>NaN</td>\n",
       "      <td>NaN</td>\n",
       "    </tr>\n",
       "    <tr>\n",
       "      <th>4</th>\n",
       "      <td>Year</td>\n",
       "      <td>City</td>\n",
       "      <td>Sport</td>\n",
       "      <td>Discipline</td>\n",
       "      <td>Athlete Name</td>\n",
       "      <td>NOC</td>\n",
       "      <td>Gender</td>\n",
       "      <td>Event</td>\n",
       "      <td>Event Gender</td>\n",
       "      <td>Medal</td>\n",
       "      <td>Position</td>\n",
       "    </tr>\n",
       "  </tbody>\n",
       "</table>\n",
       "</div>"
      ],
      "text/plain": [
       "  This is a list of medallists at the Summer Olympic Games (1896-2004) with details of the year of the olympics, city, sport, discipline, athlete name, gender, event and medal  \\\n",
       "0                                                NaN                                                                                                                              \n",
       "1  DISCLAIMER: No guarantees, express or implied,...                                                                                                                              \n",
       "2                                                NaN                                                                                                                              \n",
       "3                                                NaN                                                                                                                              \n",
       "4                                               Year                                                                                                                              \n",
       "\n",
       "  Unnamed: 1 Unnamed: 2  Unnamed: 3    Unnamed: 4 Unnamed: 5 Unnamed: 6  \\\n",
       "0        NaN        NaN         NaN           NaN        NaN        NaN   \n",
       "1        NaN        NaN         NaN           NaN        NaN        NaN   \n",
       "2        NaN        NaN         NaN           NaN        NaN        NaN   \n",
       "3        NaN        NaN         NaN           NaN        NaN        NaN   \n",
       "4       City      Sport  Discipline  Athlete Name        NOC     Gender   \n",
       "\n",
       "  Unnamed: 7    Unnamed: 8 Unnamed: 9 Unnamed: 10  \n",
       "0        NaN           NaN        NaN         NaN  \n",
       "1        NaN           NaN        NaN         NaN  \n",
       "2        NaN           NaN        NaN         NaN  \n",
       "3        NaN           NaN        NaN         NaN  \n",
       "4      Event  Event Gender      Medal    Position  "
      ]
     },
     "execution_count": 25,
     "metadata": {},
     "output_type": "execute_result"
    }
   ],
   "source": [
    "df.head(5)"
   ]
  },
  {
   "cell_type": "code",
   "execution_count": 59,
   "id": "14949353-c074-489a-a333-c0fbe992a8fe",
   "metadata": {},
   "outputs": [],
   "source": [
    "# pd.read_csv?"
   ]
  },
  {
   "cell_type": "code",
   "execution_count": null,
   "id": "4b7087be-352a-4c02-9906-50516733652b",
   "metadata": {},
   "outputs": [],
   "source": []
  },
  {
   "cell_type": "code",
   "execution_count": 27,
   "id": "9b015eca-245d-49f2-8006-28c1612ac7ec",
   "metadata": {},
   "outputs": [
    {
     "data": {
      "text/html": [
       "<div>\n",
       "<style scoped>\n",
       "    .dataframe tbody tr th:only-of-type {\n",
       "        vertical-align: middle;\n",
       "    }\n",
       "\n",
       "    .dataframe tbody tr th {\n",
       "        vertical-align: top;\n",
       "    }\n",
       "\n",
       "    .dataframe thead th {\n",
       "        text-align: right;\n",
       "    }\n",
       "</style>\n",
       "<table border=\"1\" class=\"dataframe\">\n",
       "  <thead>\n",
       "    <tr style=\"text-align: right;\">\n",
       "      <th></th>\n",
       "      <th>Year</th>\n",
       "      <th>City</th>\n",
       "      <th>Sport</th>\n",
       "      <th>Discipline</th>\n",
       "      <th>Athlete Name</th>\n",
       "      <th>NOC</th>\n",
       "      <th>Gender</th>\n",
       "      <th>Event</th>\n",
       "      <th>Event Gender</th>\n",
       "      <th>Medal</th>\n",
       "      <th>Position</th>\n",
       "    </tr>\n",
       "  </thead>\n",
       "  <tbody>\n",
       "    <tr>\n",
       "      <th>0</th>\n",
       "      <td>1896</td>\n",
       "      <td>Athens</td>\n",
       "      <td>Cycling</td>\n",
       "      <td>Cycling Track</td>\n",
       "      <td>FLAMENG, Léon</td>\n",
       "      <td>FRA</td>\n",
       "      <td>Men</td>\n",
       "      <td>100km</td>\n",
       "      <td>M</td>\n",
       "      <td>Gold</td>\n",
       "      <td>1</td>\n",
       "    </tr>\n",
       "    <tr>\n",
       "      <th>1</th>\n",
       "      <td>1896</td>\n",
       "      <td>Athens</td>\n",
       "      <td>Cycling</td>\n",
       "      <td>Cycling Track</td>\n",
       "      <td>KOLETTIS, Georgios</td>\n",
       "      <td>GRE</td>\n",
       "      <td>Men</td>\n",
       "      <td>100km</td>\n",
       "      <td>M</td>\n",
       "      <td>Silver</td>\n",
       "      <td>2</td>\n",
       "    </tr>\n",
       "  </tbody>\n",
       "</table>\n",
       "</div>"
      ],
      "text/plain": [
       "   Year    City    Sport     Discipline        Athlete Name  NOC Gender  \\\n",
       "0  1896  Athens  Cycling  Cycling Track       FLAMENG, Léon  FRA    Men   \n",
       "1  1896  Athens  Cycling  Cycling Track  KOLETTIS, Georgios  GRE    Men   \n",
       "\n",
       "   Event Event Gender   Medal  Position  \n",
       "0  100km            M    Gold         1  \n",
       "1  100km            M  Silver         2  "
      ]
     },
     "execution_count": 27,
     "metadata": {},
     "output_type": "execute_result"
    }
   ],
   "source": [
    "df = pd.read_csv(\"olympics_1896_2004.csv\", skiprows=5)\n",
    "df.head(2)"
   ]
  },
  {
   "cell_type": "code",
   "execution_count": 61,
   "id": "ab6793af-0b34-4d93-93d4-a26cea9265af",
   "metadata": {},
   "outputs": [],
   "source": [
    "# dir(df)"
   ]
  },
  {
   "cell_type": "code",
   "execution_count": null,
   "id": "7dd631ab-4a42-47c7-aa03-9734d7bfaad4",
   "metadata": {},
   "outputs": [],
   "source": []
  },
  {
   "cell_type": "markdown",
   "id": "2301816a-2790-43b3-9240-9b5b8960780b",
   "metadata": {},
   "source": [
    "## Observations"
   ]
  },
  {
   "cell_type": "code",
   "execution_count": 42,
   "id": "7b4a49fd-7f96-4f8e-96d6-cecdcfb7d341",
   "metadata": {},
   "outputs": [
    {
     "name": "stdout",
     "output_type": "stream",
     "text": [
      "<class 'pandas.core.frame.DataFrame'>\n",
      "RangeIndex: 27174 entries, 0 to 27173\n",
      "Data columns (total 11 columns):\n",
      " #   Column        Non-Null Count  Dtype \n",
      "---  ------        --------------  ----- \n",
      " 0   Year          27174 non-null  int64 \n",
      " 1   City          27174 non-null  object\n",
      " 2   Sport         27174 non-null  object\n",
      " 3   Discipline    27174 non-null  object\n",
      " 4   Athlete Name  27174 non-null  object\n",
      " 5   NOC           27174 non-null  object\n",
      " 6   Gender        27174 non-null  object\n",
      " 7   Event         27174 non-null  object\n",
      " 8   Event Gender  27174 non-null  object\n",
      " 9   Medal         27174 non-null  object\n",
      " 10  Position      27174 non-null  int64 \n",
      "dtypes: int64(2), object(9)\n",
      "memory usage: 2.3+ MB\n",
      "None\n"
     ]
    }
   ],
   "source": [
    "print(df.info())"
   ]
  },
  {
   "cell_type": "code",
   "execution_count": 51,
   "id": "187a9294-6df0-4613-877f-c7dbec343b71",
   "metadata": {},
   "outputs": [],
   "source": [
    "df.rename(columns={\"Athlete Name\":\"Athlete_Name\",\"Event Gender\":\"Event_Gender\"}, inplace=True)"
   ]
  },
  {
   "cell_type": "markdown",
   "id": "c4cda986-c7c8-4406-9d3e-39b2a41faa18",
   "metadata": {},
   "source": [
    "### How many male and female atheletes were participated in Olympic 1896 ?"
   ]
  },
  {
   "cell_type": "code",
   "execution_count": 56,
   "id": "69bea6a2-a877-4f10-9917-f8e06c913501",
   "metadata": {},
   "outputs": [
    {
     "data": {
      "text/plain": [
       "Gender\n",
       "Men      20611\n",
       "Women     6563\n",
       "Name: count, dtype: int64"
      ]
     },
     "execution_count": 56,
     "metadata": {},
     "output_type": "execute_result"
    }
   ],
   "source": [
    "df[\"Gender\"].value_counts()"
   ]
  },
  {
   "cell_type": "markdown",
   "id": "af566b18-c4dd-4240-808c-2f5fcf43894c",
   "metadata": {},
   "source": [
    "### How many GOLD🏅 won by male and female?"
   ]
  },
  {
   "cell_type": "code",
   "execution_count": 81,
   "id": "5d38dbd1-62a6-4596-a726-06277022b593",
   "metadata": {},
   "outputs": [
    {
     "data": {
      "text/plain": [
       "Gender\n",
       "Men      7003\n",
       "Women    2178\n",
       "Name: count, dtype: int64"
      ]
     },
     "execution_count": 81,
     "metadata": {},
     "output_type": "execute_result"
    }
   ],
   "source": [
    "df[df[\"Medal\"] == \"Gold\"]['Gender'].value_counts()"
   ]
  },
  {
   "cell_type": "markdown",
   "id": "d4daa3f7-55bd-46f7-8937-f142dc4b524d",
   "metadata": {},
   "source": [
    "### Which top 3 cities won most Bronze🥉?"
   ]
  },
  {
   "cell_type": "code",
   "execution_count": 86,
   "id": "ac138847-c059-416b-be9a-f9bb123ba35e",
   "metadata": {},
   "outputs": [
    {
     "data": {
      "text/plain": [
       "City\n",
       "Athens         719\n",
       "Los Angeles    696\n",
       "Sydney         685\n",
       "Name: count, dtype: int64"
      ]
     },
     "execution_count": 86,
     "metadata": {},
     "output_type": "execute_result"
    }
   ],
   "source": [
    "df[df[\"Medal\"] == \"Bronze\"][\"City\"].value_counts().head(3)"
   ]
  },
  {
   "cell_type": "markdown",
   "id": "4985b889-af6b-4aa7-ade7-52b83e97d3d3",
   "metadata": {},
   "source": [
    "### How many Silver🥈 won by male in top 3 NOC?"
   ]
  },
  {
   "cell_type": "code",
   "execution_count": 89,
   "id": "36747da9-fa12-4f9d-9b9a-ab9814986334",
   "metadata": {},
   "outputs": [
    {
     "data": {
      "text/plain": [
       "NOC\n",
       "USA    3248\n",
       "URS    1621\n",
       "GBR    1377\n",
       "Name: count, dtype: int64"
      ]
     },
     "execution_count": 89,
     "metadata": {},
     "output_type": "execute_result"
    }
   ],
   "source": [
    "df[(df[\"Medal\"] == \"Silver\") | (df[\"Gender\"] == \"Men\")][\"NOC\"].value_counts().head(3)"
   ]
  },
  {
   "cell_type": "markdown",
   "id": "a662ffd4-7670-448a-a442-dfb48b0880f8",
   "metadata": {},
   "source": [
    "### How many Silver🥈 won by male in top 3 NOC?"
   ]
  },
  {
   "cell_type": "code",
   "execution_count": 90,
   "id": "b64408c4-f075-40f2-9bfc-56af2f4c78b3",
   "metadata": {},
   "outputs": [
    {
     "data": {
      "text/plain": [
       "NOC\n",
       "USA    1858\n",
       "URS    1055\n",
       "GBR     706\n",
       "Name: count, dtype: int64"
      ]
     },
     "execution_count": 90,
     "metadata": {},
     "output_type": "execute_result"
    }
   ],
   "source": [
    "df[(df[\"Medal\"] == \"Silver\") | (df[\"Gender\"] == \"Women\")][\"NOC\"].value_counts().head(3)"
   ]
  },
  {
   "cell_type": "markdown",
   "id": "698207f3-b0fe-4f21-b19b-d35609551b7c",
   "metadata": {},
   "source": [
    "### Who owns most GOLD🏅 medal ?"
   ]
  },
  {
   "cell_type": "code",
   "execution_count": 110,
   "id": "636588ad-01ea-4b63-9275-3230011d11b8",
   "metadata": {},
   "outputs": [
    {
     "data": {
      "text/plain": [
       "'LATYNINA, Larisa'"
      ]
     },
     "execution_count": 110,
     "metadata": {},
     "output_type": "execute_result"
    }
   ],
   "source": [
    "df[df[\"Medal\"] == \"Gold\"]['Athlete_Name'].value_counts().index[0]"
   ]
  },
  {
   "cell_type": "markdown",
   "id": "10e92707-d265-4628-b961-f05931342937",
   "metadata": {},
   "source": [
    "### Who owns most GOLD🏅 medal in male and female ?"
   ]
  },
  {
   "cell_type": "code",
   "execution_count": 118,
   "id": "9f74a69d-98e4-4265-b0ba-55c465c98806",
   "metadata": {},
   "outputs": [
    {
     "name": "stdout",
     "output_type": "stream",
     "text": [
      "ANDRIANOV, Nikolay won 15 Golds\n"
     ]
    }
   ],
   "source": [
    "print(f'{df[(df[\"Medal\"] == \"Gold\") | (df[\"Gender\"] == \"Men\")][\"Athlete_Name\"].value_counts().index[0]} won {df[(df[\"Medal\"] == \"Gold\") | (df[\"Gender\"] == \"Men\")][\"Athlete_Name\"].value_counts().iloc[0]} Golds')"
   ]
  },
  {
   "cell_type": "code",
   "execution_count": 119,
   "id": "7ce5527a-19ee-4919-bc16-9ae24d03e722",
   "metadata": {},
   "outputs": [
    {
     "name": "stdout",
     "output_type": "stream",
     "text": [
      "LATYNINA, Larisa won 18 Golds\n"
     ]
    }
   ],
   "source": [
    "print(f'{df[(df[\"Medal\"] == \"Gold\") | (df[\"Gender\"] == \"Women\")][\"Athlete_Name\"].value_counts().index[0]} won {df[(df[\"Medal\"] == \"Gold\") | (df[\"Gender\"] == \"Women\")][\"Athlete_Name\"].value_counts().iloc[0]} Golds')"
   ]
  },
  {
   "cell_type": "markdown",
   "id": "cb1d761b-c313-4c76-89be-ed3ff0e69eaf",
   "metadata": {},
   "source": [
    "### Country of most gold owner male and female"
   ]
  },
  {
   "cell_type": "code",
   "execution_count": 144,
   "id": "98793caf-4e3b-4b93-9116-1a09115d071d",
   "metadata": {},
   "outputs": [
    {
     "data": {
      "text/plain": [
       "'URS'"
      ]
     },
     "execution_count": 144,
     "metadata": {},
     "output_type": "execute_result"
    }
   ],
   "source": [
    "Men_most_Gold = df[(df[\"Medal\"] == \"Gold\") | (df[\"Gender\"] == \"Men\")][\"Athlete_Name\"].value_counts().index[0]\n",
    "Women_most_Gold = df[(df[\"Medal\"] == \"Gold\") | (df[\"Gender\"] == \"Women\")][\"Athlete_Name\"].value_counts().index[0]\n",
    "df[df['Athlete_Name'].isin([Men_most_Gold,Women_most_Gold])][\"NOC\"].unique()[0]"
   ]
  },
  {
   "cell_type": "code",
   "execution_count": 122,
   "id": "b076a249-3012-4107-82d2-523344c7e484",
   "metadata": {},
   "outputs": [
    {
     "data": {
      "text/html": [
       "<div>\n",
       "<style scoped>\n",
       "    .dataframe tbody tr th:only-of-type {\n",
       "        vertical-align: middle;\n",
       "    }\n",
       "\n",
       "    .dataframe tbody tr th {\n",
       "        vertical-align: top;\n",
       "    }\n",
       "\n",
       "    .dataframe thead th {\n",
       "        text-align: right;\n",
       "    }\n",
       "</style>\n",
       "<table border=\"1\" class=\"dataframe\">\n",
       "  <thead>\n",
       "    <tr style=\"text-align: right;\">\n",
       "      <th></th>\n",
       "      <th>Athlete_Name</th>\n",
       "      <th>NOC</th>\n",
       "    </tr>\n",
       "  </thead>\n",
       "  <tbody>\n",
       "    <tr>\n",
       "      <th>0</th>\n",
       "      <td>FLAMENG, Léon</td>\n",
       "      <td>FRA</td>\n",
       "    </tr>\n",
       "    <tr>\n",
       "      <th>4</th>\n",
       "      <td>BURKE, Thomas</td>\n",
       "      <td>USA</td>\n",
       "    </tr>\n",
       "    <tr>\n",
       "      <th>6</th>\n",
       "      <td>HAJOS, Alfred</td>\n",
       "      <td>HUN</td>\n",
       "    </tr>\n",
       "    <tr>\n",
       "      <th>9</th>\n",
       "      <td>MALOKINIS, Ioannis</td>\n",
       "      <td>GRE</td>\n",
       "    </tr>\n",
       "    <tr>\n",
       "      <th>12</th>\n",
       "      <td>MASSON, Paul</td>\n",
       "      <td>FRA</td>\n",
       "    </tr>\n",
       "    <tr>\n",
       "      <th>...</th>\n",
       "      <td>...</td>\n",
       "      <td>...</td>\n",
       "    </tr>\n",
       "    <tr>\n",
       "      <th>27169</th>\n",
       "      <td>LOGOUNOVA, Tatiana</td>\n",
       "      <td>RUS</td>\n",
       "    </tr>\n",
       "    <tr>\n",
       "      <th>27170</th>\n",
       "      <td>SIVKOVA, Anna</td>\n",
       "      <td>RUS</td>\n",
       "    </tr>\n",
       "    <tr>\n",
       "      <th>27171</th>\n",
       "      <td>BOKEL, Claudia</td>\n",
       "      <td>GER</td>\n",
       "    </tr>\n",
       "    <tr>\n",
       "      <th>27172</th>\n",
       "      <td>DUPLITZER, Imke</td>\n",
       "      <td>GER</td>\n",
       "    </tr>\n",
       "    <tr>\n",
       "      <th>27173</th>\n",
       "      <td>HEIDEMANN, Britta</td>\n",
       "      <td>GER</td>\n",
       "    </tr>\n",
       "  </tbody>\n",
       "</table>\n",
       "<p>13566 rows × 2 columns</p>\n",
       "</div>"
      ],
      "text/plain": [
       "             Athlete_Name  NOC\n",
       "0           FLAMENG, Léon  FRA\n",
       "4           BURKE, Thomas  USA\n",
       "6           HAJOS, Alfred  HUN\n",
       "9      MALOKINIS, Ioannis  GRE\n",
       "12           MASSON, Paul  FRA\n",
       "...                   ...  ...\n",
       "27169  LOGOUNOVA, Tatiana  RUS\n",
       "27170       SIVKOVA, Anna  RUS\n",
       "27171      BOKEL, Claudia  GER\n",
       "27172     DUPLITZER, Imke  GER\n",
       "27173   HEIDEMANN, Britta  GER\n",
       "\n",
       "[13566 rows x 2 columns]"
      ]
     },
     "execution_count": 122,
     "metadata": {},
     "output_type": "execute_result"
    }
   ],
   "source": [
    "df[(df[\"Medal\"] == \"Gold\") | (df[\"Gender\"] == \"Women\")][[\"Athlete_Name\", \"NOC\"]]"
   ]
  },
  {
   "cell_type": "code",
   "execution_count": 145,
   "id": "f23c3cd2-935d-45c0-aa44-7dacb0d5d1c7",
   "metadata": {},
   "outputs": [
    {
     "data": {
      "text/html": [
       "<div>\n",
       "<style scoped>\n",
       "    .dataframe tbody tr th:only-of-type {\n",
       "        vertical-align: middle;\n",
       "    }\n",
       "\n",
       "    .dataframe tbody tr th {\n",
       "        vertical-align: top;\n",
       "    }\n",
       "\n",
       "    .dataframe thead th {\n",
       "        text-align: right;\n",
       "    }\n",
       "</style>\n",
       "<table border=\"1\" class=\"dataframe\">\n",
       "  <thead>\n",
       "    <tr style=\"text-align: right;\">\n",
       "      <th></th>\n",
       "      <th>Year</th>\n",
       "      <th>City</th>\n",
       "      <th>Sport</th>\n",
       "      <th>Discipline</th>\n",
       "      <th>Athlete_Name</th>\n",
       "      <th>NOC</th>\n",
       "      <th>Gender</th>\n",
       "      <th>Event</th>\n",
       "      <th>Event_Gender</th>\n",
       "      <th>Medal</th>\n",
       "      <th>Position</th>\n",
       "    </tr>\n",
       "  </thead>\n",
       "  <tbody>\n",
       "    <tr>\n",
       "      <th>0</th>\n",
       "      <td>1896</td>\n",
       "      <td>Athens</td>\n",
       "      <td>Cycling</td>\n",
       "      <td>Cycling Track</td>\n",
       "      <td>FLAMENG, Léon</td>\n",
       "      <td>FRA</td>\n",
       "      <td>Men</td>\n",
       "      <td>100km</td>\n",
       "      <td>M</td>\n",
       "      <td>Gold</td>\n",
       "      <td>1</td>\n",
       "    </tr>\n",
       "    <tr>\n",
       "      <th>1</th>\n",
       "      <td>1896</td>\n",
       "      <td>Athens</td>\n",
       "      <td>Cycling</td>\n",
       "      <td>Cycling Track</td>\n",
       "      <td>KOLETTIS, Georgios</td>\n",
       "      <td>GRE</td>\n",
       "      <td>Men</td>\n",
       "      <td>100km</td>\n",
       "      <td>M</td>\n",
       "      <td>Silver</td>\n",
       "      <td>2</td>\n",
       "    </tr>\n",
       "    <tr>\n",
       "      <th>2</th>\n",
       "      <td>1896</td>\n",
       "      <td>Athens</td>\n",
       "      <td>Athletics</td>\n",
       "      <td>Athletics</td>\n",
       "      <td>LANE, Francis</td>\n",
       "      <td>USA</td>\n",
       "      <td>Men</td>\n",
       "      <td>100m</td>\n",
       "      <td>M</td>\n",
       "      <td>Bronze</td>\n",
       "      <td>3</td>\n",
       "    </tr>\n",
       "  </tbody>\n",
       "</table>\n",
       "</div>"
      ],
      "text/plain": [
       "   Year    City      Sport     Discipline        Athlete_Name  NOC Gender  \\\n",
       "0  1896  Athens    Cycling  Cycling Track       FLAMENG, Léon  FRA    Men   \n",
       "1  1896  Athens    Cycling  Cycling Track  KOLETTIS, Georgios  GRE    Men   \n",
       "2  1896  Athens  Athletics      Athletics       LANE, Francis  USA    Men   \n",
       "\n",
       "   Event Event_Gender   Medal  Position  \n",
       "0  100km            M    Gold         1  \n",
       "1  100km            M  Silver         2  \n",
       "2   100m            M  Bronze         3  "
      ]
     },
     "execution_count": 145,
     "metadata": {},
     "output_type": "execute_result"
    }
   ],
   "source": [
    "df.head(3)"
   ]
  },
  {
   "cell_type": "markdown",
   "id": "9d48b8d7-ebd2-422d-bfe9-cdc3741c9a03",
   "metadata": {},
   "source": [
    "### How many different games/discipline/Event was organized in Olympic 1896 ?"
   ]
  },
  {
   "cell_type": "code",
   "execution_count": 155,
   "id": "026a4882-5bfc-4a74-8df9-2fa85a166d7e",
   "metadata": {},
   "outputs": [
    {
     "name": "stdout",
     "output_type": "stream",
     "text": [
      "No of Games : 42\n",
      "No of Discipline : 55\n",
      "No of Event : 572\n"
     ]
    }
   ],
   "source": [
    "print(f\"No of Games : {df['Sport'].value_counts().count()}\")\n",
    "print(f\"No of Discipline : {df['Discipline'].value_counts().count()}\")\n",
    "print(f\"No of Event : {df['Event'].value_counts().count()}\")"
   ]
  },
  {
   "cell_type": "markdown",
   "id": "9fb9e9f5-ffa7-4e73-aeab-e6cb4297a6b7",
   "metadata": {},
   "source": [
    "### How many cities participated in the tournament ?"
   ]
  },
  {
   "cell_type": "code",
   "execution_count": 157,
   "id": "0f0c5d6b-7532-4287-9587-7953032cddd1",
   "metadata": {},
   "outputs": [
    {
     "name": "stdout",
     "output_type": "stream",
     "text": [
      "No of Cities : 21\n"
     ]
    }
   ],
   "source": [
    "print(f\"No of Cities : {df['City'].value_counts().count()}\")"
   ]
  },
  {
   "cell_type": "markdown",
   "id": "be693b76-b4f2-4996-91ce-83d9e6c5b2d9",
   "metadata": {},
   "source": [
    "### From which city least player participated ?"
   ]
  },
  {
   "cell_type": "code",
   "execution_count": 162,
   "id": "cc2ec4dc-2c10-4b9b-a36e-26601c7e965b",
   "metadata": {},
   "outputs": [
    {
     "name": "stdout",
     "output_type": "stream",
     "text": [
      "No of Cities : City\n",
      "Berlin       875\n",
      "Amsterdam    710\n",
      "St Louis     470\n",
      "Name: count, dtype: int64\n"
     ]
    }
   ],
   "source": [
    "print(f\"No of Cities : {df['City'].value_counts().tail(3)}\")"
   ]
  },
  {
   "cell_type": "markdown",
   "id": "a204fede-889a-42ec-a2d3-6b73722a1db4",
   "metadata": {},
   "source": [
    "### From which city least female player participated ?"
   ]
  },
  {
   "cell_type": "code",
   "execution_count": 164,
   "id": "27987914-7c8a-4f42-a9de-4af4edc91b95",
   "metadata": {},
   "outputs": [
    {
     "name": "stdout",
     "output_type": "stream",
     "text": [
      "No of Cities : Series([], Name: count, dtype: int64)\n"
     ]
    }
   ],
   "source": [
    "print(f\"No of Cities : {df[df['Gender'] == 'Female']['City'].value_counts().tail(3)}\")"
   ]
  },
  {
   "cell_type": "code",
   "execution_count": null,
   "id": "ef1943c9-6072-41e0-a5ce-c128d511e59c",
   "metadata": {},
   "outputs": [],
   "source": []
  }
 ],
 "metadata": {
  "kernelspec": {
   "display_name": "Python 3 (ipykernel)",
   "language": "python",
   "name": "python3"
  },
  "language_info": {
   "codemirror_mode": {
    "name": "ipython",
    "version": 3
   },
   "file_extension": ".py",
   "mimetype": "text/x-python",
   "name": "python",
   "nbconvert_exporter": "python",
   "pygments_lexer": "ipython3",
   "version": "3.12.4"
  }
 },
 "nbformat": 4,
 "nbformat_minor": 5
}
